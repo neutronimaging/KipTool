{
 "cells": [
  {
   "cell_type": "code",
   "execution_count": null,
   "metadata": {},
   "outputs": [],
   "source": [
    "import numpy as np\n",
    "import pandas as pd"
   ]
  },
  {
   "cell_type": "code",
   "execution_count": null,
   "metadata": {},
   "outputs": [],
   "source": [
    "issues1=pd.read_json(\"https://api.github.com/repos/neutronimaging/imagingsuite/issues?state=closed&page=1&since=\\\"2019-06-01T10:00:00Z\\\"&per_page=400\")\n",
    "issues2=pd.read_json(\"https://api.github.com/repos/neutronimaging/imagingsuite/issues?state=closed&page=2&since=\\\"2019-06-01T10:00:00Z\\\"&per_page=400\")\n",
    "issues3=pd.read_json(\"https://api.github.com/repos/neutronimaging/imagingsuite/issues?state=closed&page=3&since=\\\"2019-06-01T10:00:00Z\\\"&per_page=400\")\n",
    "frames = [issues1, issues2, issues3]\n",
    "\n",
    "issues = pd.concat(frames)"
   ]
  },
  {
   "cell_type": "code",
   "execution_count": null,
   "metadata": {},
   "outputs": [],
   "source": [
    "issues.count()"
   ]
  },
  {
   "cell_type": "code",
   "execution_count": null,
   "metadata": {},
   "outputs": [],
   "source": [
    "closedissues=issues[(issues['state']==\"closed\") & (issues['pull_request'].isnull())]\n",
    "closedissues[['number','title','closed_at']]\n"
   ]
  },
  {
   "cell_type": "markdown",
   "metadata": {},
   "source": [
    "# Print list for github markdown"
   ]
  },
  {
   "cell_type": "code",
   "execution_count": null,
   "metadata": {},
   "outputs": [],
   "source": [
    "for index,issue in closedissues.iterrows() :\n",
    "    print('- Issue',issue['number'], '- [',issue['title'],'](', issue['html_url'],')')"
   ]
  },
  {
   "cell_type": "code",
   "execution_count": null,
   "metadata": {},
   "outputs": [],
   "source": [
    "i2=pd.read_json(\"https://api.github.com/repos/neutronimaging/imagingsuite/issues?state=closed&page=1&since=\\\"2019-05-28T10:00:00Z\\\"&per_page=400\")"
   ]
  },
  {
   "cell_type": "code",
   "execution_count": null,
   "metadata": {},
   "outputs": [],
   "source": [
    "for index,issue in i2.iterrows() :\n",
    "    print('- Issue',issue['number'], '- [',issue['title'],'](', issue['html_url'],')')"
   ]
  },
  {
   "cell_type": "code",
   "execution_count": null,
   "metadata": {},
   "outputs": [],
   "source": []
  }
 ],
 "metadata": {
  "hide_input": false,
  "kernelspec": {
   "display_name": "Python 3",
   "language": "python",
   "name": "python3"
  },
  "language_info": {
   "codemirror_mode": {
    "name": "ipython",
    "version": 3
   },
   "file_extension": ".py",
   "mimetype": "text/x-python",
   "name": "python",
   "nbconvert_exporter": "python",
   "pygments_lexer": "ipython3",
   "version": "3.7.3"
  }
 },
 "nbformat": 4,
 "nbformat_minor": 4
}
